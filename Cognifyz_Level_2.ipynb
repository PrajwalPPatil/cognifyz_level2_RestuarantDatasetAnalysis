{
  "cells": [
    {
      "cell_type": "markdown",
      "metadata": {
        "id": "view-in-github",
        "colab_type": "text"
      },
      "source": [
        "<a href=\"https://colab.research.google.com/github/PrajwalPPatil/cognifyz_level2_RestuarantDatasetAnalysis/blob/main/Cognifyz_Level_2.ipynb\" target=\"_parent\"><img src=\"https://colab.research.google.com/assets/colab-badge.svg\" alt=\"Open In Colab\"/></a>"
      ]
    },
    {
      "cell_type": "markdown",
      "id": "0535563a",
      "metadata": {
        "id": "0535563a"
      },
      "source": [
        "# Level2]Task1)Table Booking and Online Delivery"
      ]
    },
    {
      "cell_type": "code",
      "execution_count": 1,
      "id": "c14bf808",
      "metadata": {
        "id": "c14bf808"
      },
      "outputs": [],
      "source": [
        "#Importing libraries for data manipulation\n",
        "import pandas as pd\n",
        "import numpy as np"
      ]
    },
    {
      "cell_type": "code",
      "execution_count": 2,
      "id": "bd723261",
      "metadata": {
        "id": "bd723261"
      },
      "outputs": [],
      "source": [
        "#Importing visualization libraries\n",
        "import seaborn as sns\n",
        "import matplotlib.pyplot as plt\n",
        "%matplotlib inline"
      ]
    },
    {
      "cell_type": "code",
      "execution_count": 3,
      "id": "75e7f48b",
      "metadata": {
        "id": "75e7f48b"
      },
      "outputs": [],
      "source": [
        "#To ignore warning message to avoid cluttering the output\n",
        "import warnings\n",
        "warnings.filterwarnings('ignore')"
      ]
    },
    {
      "cell_type": "code",
      "execution_count": 5,
      "id": "ec0671db",
      "metadata": {
        "colab": {
          "base_uri": "https://localhost:8080/",
          "height": 810
        },
        "id": "ec0671db",
        "outputId": "612422cf-2c9e-439f-b24f-9bdb31d9faad"
      },
      "outputs": [
        {
          "output_type": "execute_result",
          "data": {
            "text/plain": [
              "   Restaurant ID         Restaurant Name  Country Code              City  \\\n",
              "0        6317637        Le Petit Souffle           162       Makati City   \n",
              "1        6304287        Izakaya Kikufuji           162       Makati City   \n",
              "2        6300002  Heat - Edsa Shangri-La           162  Mandaluyong City   \n",
              "3        6318506                    Ooma           162  Mandaluyong City   \n",
              "4        6314302             Sambo Kojin           162  Mandaluyong City   \n",
              "\n",
              "                                             Address  \\\n",
              "0  Third Floor, Century City Mall, Kalayaan Avenu...   \n",
              "1  Little Tokyo, 2277 Chino Roces Avenue, Legaspi...   \n",
              "2  Edsa Shangri-La, 1 Garden Way, Ortigas, Mandal...   \n",
              "3  Third Floor, Mega Fashion Hall, SM Megamall, O...   \n",
              "4  Third Floor, Mega Atrium, SM Megamall, Ortigas...   \n",
              "\n",
              "                                     Locality  \\\n",
              "0   Century City Mall, Poblacion, Makati City   \n",
              "1  Little Tokyo, Legaspi Village, Makati City   \n",
              "2  Edsa Shangri-La, Ortigas, Mandaluyong City   \n",
              "3      SM Megamall, Ortigas, Mandaluyong City   \n",
              "4      SM Megamall, Ortigas, Mandaluyong City   \n",
              "\n",
              "                                    Locality Verbose   Longitude   Latitude  \\\n",
              "0  Century City Mall, Poblacion, Makati City, Mak...  121.027535  14.565443   \n",
              "1  Little Tokyo, Legaspi Village, Makati City, Ma...  121.014101  14.553708   \n",
              "2  Edsa Shangri-La, Ortigas, Mandaluyong City, Ma...  121.056831  14.581404   \n",
              "3  SM Megamall, Ortigas, Mandaluyong City, Mandal...  121.056475  14.585318   \n",
              "4  SM Megamall, Ortigas, Mandaluyong City, Mandal...  121.057508  14.584450   \n",
              "\n",
              "                           Cuisines  ...          Currency Has Table booking  \\\n",
              "0        French, Japanese, Desserts  ...  Botswana Pula(P)               Yes   \n",
              "1                          Japanese  ...  Botswana Pula(P)               Yes   \n",
              "2  Seafood, Asian, Filipino, Indian  ...  Botswana Pula(P)               Yes   \n",
              "3                   Japanese, Sushi  ...  Botswana Pula(P)                No   \n",
              "4                  Japanese, Korean  ...  Botswana Pula(P)               Yes   \n",
              "\n",
              "  Has Online delivery Is delivering now Switch to order menu Price range  \\\n",
              "0                  No                No                   No           3   \n",
              "1                  No                No                   No           3   \n",
              "2                  No                No                   No           4   \n",
              "3                  No                No                   No           4   \n",
              "4                  No                No                   No           4   \n",
              "\n",
              "   Aggregate rating  Rating color Rating text Votes  \n",
              "0               4.8    Dark Green   Excellent   314  \n",
              "1               4.5    Dark Green   Excellent   591  \n",
              "2               4.4         Green   Very Good   270  \n",
              "3               4.9    Dark Green   Excellent   365  \n",
              "4               4.8    Dark Green   Excellent   229  \n",
              "\n",
              "[5 rows x 21 columns]"
            ],
            "text/html": [
              "\n",
              "  <div id=\"df-ea857cb3-0141-4ad8-998e-0ee45c7b2d47\" class=\"colab-df-container\">\n",
              "    <div>\n",
              "<style scoped>\n",
              "    .dataframe tbody tr th:only-of-type {\n",
              "        vertical-align: middle;\n",
              "    }\n",
              "\n",
              "    .dataframe tbody tr th {\n",
              "        vertical-align: top;\n",
              "    }\n",
              "\n",
              "    .dataframe thead th {\n",
              "        text-align: right;\n",
              "    }\n",
              "</style>\n",
              "<table border=\"1\" class=\"dataframe\">\n",
              "  <thead>\n",
              "    <tr style=\"text-align: right;\">\n",
              "      <th></th>\n",
              "      <th>Restaurant ID</th>\n",
              "      <th>Restaurant Name</th>\n",
              "      <th>Country Code</th>\n",
              "      <th>City</th>\n",
              "      <th>Address</th>\n",
              "      <th>Locality</th>\n",
              "      <th>Locality Verbose</th>\n",
              "      <th>Longitude</th>\n",
              "      <th>Latitude</th>\n",
              "      <th>Cuisines</th>\n",
              "      <th>...</th>\n",
              "      <th>Currency</th>\n",
              "      <th>Has Table booking</th>\n",
              "      <th>Has Online delivery</th>\n",
              "      <th>Is delivering now</th>\n",
              "      <th>Switch to order menu</th>\n",
              "      <th>Price range</th>\n",
              "      <th>Aggregate rating</th>\n",
              "      <th>Rating color</th>\n",
              "      <th>Rating text</th>\n",
              "      <th>Votes</th>\n",
              "    </tr>\n",
              "  </thead>\n",
              "  <tbody>\n",
              "    <tr>\n",
              "      <th>0</th>\n",
              "      <td>6317637</td>\n",
              "      <td>Le Petit Souffle</td>\n",
              "      <td>162</td>\n",
              "      <td>Makati City</td>\n",
              "      <td>Third Floor, Century City Mall, Kalayaan Avenu...</td>\n",
              "      <td>Century City Mall, Poblacion, Makati City</td>\n",
              "      <td>Century City Mall, Poblacion, Makati City, Mak...</td>\n",
              "      <td>121.027535</td>\n",
              "      <td>14.565443</td>\n",
              "      <td>French, Japanese, Desserts</td>\n",
              "      <td>...</td>\n",
              "      <td>Botswana Pula(P)</td>\n",
              "      <td>Yes</td>\n",
              "      <td>No</td>\n",
              "      <td>No</td>\n",
              "      <td>No</td>\n",
              "      <td>3</td>\n",
              "      <td>4.8</td>\n",
              "      <td>Dark Green</td>\n",
              "      <td>Excellent</td>\n",
              "      <td>314</td>\n",
              "    </tr>\n",
              "    <tr>\n",
              "      <th>1</th>\n",
              "      <td>6304287</td>\n",
              "      <td>Izakaya Kikufuji</td>\n",
              "      <td>162</td>\n",
              "      <td>Makati City</td>\n",
              "      <td>Little Tokyo, 2277 Chino Roces Avenue, Legaspi...</td>\n",
              "      <td>Little Tokyo, Legaspi Village, Makati City</td>\n",
              "      <td>Little Tokyo, Legaspi Village, Makati City, Ma...</td>\n",
              "      <td>121.014101</td>\n",
              "      <td>14.553708</td>\n",
              "      <td>Japanese</td>\n",
              "      <td>...</td>\n",
              "      <td>Botswana Pula(P)</td>\n",
              "      <td>Yes</td>\n",
              "      <td>No</td>\n",
              "      <td>No</td>\n",
              "      <td>No</td>\n",
              "      <td>3</td>\n",
              "      <td>4.5</td>\n",
              "      <td>Dark Green</td>\n",
              "      <td>Excellent</td>\n",
              "      <td>591</td>\n",
              "    </tr>\n",
              "    <tr>\n",
              "      <th>2</th>\n",
              "      <td>6300002</td>\n",
              "      <td>Heat - Edsa Shangri-La</td>\n",
              "      <td>162</td>\n",
              "      <td>Mandaluyong City</td>\n",
              "      <td>Edsa Shangri-La, 1 Garden Way, Ortigas, Mandal...</td>\n",
              "      <td>Edsa Shangri-La, Ortigas, Mandaluyong City</td>\n",
              "      <td>Edsa Shangri-La, Ortigas, Mandaluyong City, Ma...</td>\n",
              "      <td>121.056831</td>\n",
              "      <td>14.581404</td>\n",
              "      <td>Seafood, Asian, Filipino, Indian</td>\n",
              "      <td>...</td>\n",
              "      <td>Botswana Pula(P)</td>\n",
              "      <td>Yes</td>\n",
              "      <td>No</td>\n",
              "      <td>No</td>\n",
              "      <td>No</td>\n",
              "      <td>4</td>\n",
              "      <td>4.4</td>\n",
              "      <td>Green</td>\n",
              "      <td>Very Good</td>\n",
              "      <td>270</td>\n",
              "    </tr>\n",
              "    <tr>\n",
              "      <th>3</th>\n",
              "      <td>6318506</td>\n",
              "      <td>Ooma</td>\n",
              "      <td>162</td>\n",
              "      <td>Mandaluyong City</td>\n",
              "      <td>Third Floor, Mega Fashion Hall, SM Megamall, O...</td>\n",
              "      <td>SM Megamall, Ortigas, Mandaluyong City</td>\n",
              "      <td>SM Megamall, Ortigas, Mandaluyong City, Mandal...</td>\n",
              "      <td>121.056475</td>\n",
              "      <td>14.585318</td>\n",
              "      <td>Japanese, Sushi</td>\n",
              "      <td>...</td>\n",
              "      <td>Botswana Pula(P)</td>\n",
              "      <td>No</td>\n",
              "      <td>No</td>\n",
              "      <td>No</td>\n",
              "      <td>No</td>\n",
              "      <td>4</td>\n",
              "      <td>4.9</td>\n",
              "      <td>Dark Green</td>\n",
              "      <td>Excellent</td>\n",
              "      <td>365</td>\n",
              "    </tr>\n",
              "    <tr>\n",
              "      <th>4</th>\n",
              "      <td>6314302</td>\n",
              "      <td>Sambo Kojin</td>\n",
              "      <td>162</td>\n",
              "      <td>Mandaluyong City</td>\n",
              "      <td>Third Floor, Mega Atrium, SM Megamall, Ortigas...</td>\n",
              "      <td>SM Megamall, Ortigas, Mandaluyong City</td>\n",
              "      <td>SM Megamall, Ortigas, Mandaluyong City, Mandal...</td>\n",
              "      <td>121.057508</td>\n",
              "      <td>14.584450</td>\n",
              "      <td>Japanese, Korean</td>\n",
              "      <td>...</td>\n",
              "      <td>Botswana Pula(P)</td>\n",
              "      <td>Yes</td>\n",
              "      <td>No</td>\n",
              "      <td>No</td>\n",
              "      <td>No</td>\n",
              "      <td>4</td>\n",
              "      <td>4.8</td>\n",
              "      <td>Dark Green</td>\n",
              "      <td>Excellent</td>\n",
              "      <td>229</td>\n",
              "    </tr>\n",
              "  </tbody>\n",
              "</table>\n",
              "<p>5 rows × 21 columns</p>\n",
              "</div>\n",
              "    <div class=\"colab-df-buttons\">\n",
              "\n",
              "  <div class=\"colab-df-container\">\n",
              "    <button class=\"colab-df-convert\" onclick=\"convertToInteractive('df-ea857cb3-0141-4ad8-998e-0ee45c7b2d47')\"\n",
              "            title=\"Convert this dataframe to an interactive table.\"\n",
              "            style=\"display:none;\">\n",
              "\n",
              "  <svg xmlns=\"http://www.w3.org/2000/svg\" height=\"24px\" viewBox=\"0 -960 960 960\">\n",
              "    <path d=\"M120-120v-720h720v720H120Zm60-500h600v-160H180v160Zm220 220h160v-160H400v160Zm0 220h160v-160H400v160ZM180-400h160v-160H180v160Zm440 0h160v-160H620v160ZM180-180h160v-160H180v160Zm440 0h160v-160H620v160Z\"/>\n",
              "  </svg>\n",
              "    </button>\n",
              "\n",
              "  <style>\n",
              "    .colab-df-container {\n",
              "      display:flex;\n",
              "      gap: 12px;\n",
              "    }\n",
              "\n",
              "    .colab-df-convert {\n",
              "      background-color: #E8F0FE;\n",
              "      border: none;\n",
              "      border-radius: 50%;\n",
              "      cursor: pointer;\n",
              "      display: none;\n",
              "      fill: #1967D2;\n",
              "      height: 32px;\n",
              "      padding: 0 0 0 0;\n",
              "      width: 32px;\n",
              "    }\n",
              "\n",
              "    .colab-df-convert:hover {\n",
              "      background-color: #E2EBFA;\n",
              "      box-shadow: 0px 1px 2px rgba(60, 64, 67, 0.3), 0px 1px 3px 1px rgba(60, 64, 67, 0.15);\n",
              "      fill: #174EA6;\n",
              "    }\n",
              "\n",
              "    .colab-df-buttons div {\n",
              "      margin-bottom: 4px;\n",
              "    }\n",
              "\n",
              "    [theme=dark] .colab-df-convert {\n",
              "      background-color: #3B4455;\n",
              "      fill: #D2E3FC;\n",
              "    }\n",
              "\n",
              "    [theme=dark] .colab-df-convert:hover {\n",
              "      background-color: #434B5C;\n",
              "      box-shadow: 0px 1px 3px 1px rgba(0, 0, 0, 0.15);\n",
              "      filter: drop-shadow(0px 1px 2px rgba(0, 0, 0, 0.3));\n",
              "      fill: #FFFFFF;\n",
              "    }\n",
              "  </style>\n",
              "\n",
              "    <script>\n",
              "      const buttonEl =\n",
              "        document.querySelector('#df-ea857cb3-0141-4ad8-998e-0ee45c7b2d47 button.colab-df-convert');\n",
              "      buttonEl.style.display =\n",
              "        google.colab.kernel.accessAllowed ? 'block' : 'none';\n",
              "\n",
              "      async function convertToInteractive(key) {\n",
              "        const element = document.querySelector('#df-ea857cb3-0141-4ad8-998e-0ee45c7b2d47');\n",
              "        const dataTable =\n",
              "          await google.colab.kernel.invokeFunction('convertToInteractive',\n",
              "                                                    [key], {});\n",
              "        if (!dataTable) return;\n",
              "\n",
              "        const docLinkHtml = 'Like what you see? Visit the ' +\n",
              "          '<a target=\"_blank\" href=https://colab.research.google.com/notebooks/data_table.ipynb>data table notebook</a>'\n",
              "          + ' to learn more about interactive tables.';\n",
              "        element.innerHTML = '';\n",
              "        dataTable['output_type'] = 'display_data';\n",
              "        await google.colab.output.renderOutput(dataTable, element);\n",
              "        const docLink = document.createElement('div');\n",
              "        docLink.innerHTML = docLinkHtml;\n",
              "        element.appendChild(docLink);\n",
              "      }\n",
              "    </script>\n",
              "  </div>\n",
              "\n",
              "\n",
              "<div id=\"df-e9043d92-c45d-4f36-92a7-a1de2aea3189\">\n",
              "  <button class=\"colab-df-quickchart\" onclick=\"quickchart('df-e9043d92-c45d-4f36-92a7-a1de2aea3189')\"\n",
              "            title=\"Suggest charts\"\n",
              "            style=\"display:none;\">\n",
              "\n",
              "<svg xmlns=\"http://www.w3.org/2000/svg\" height=\"24px\"viewBox=\"0 0 24 24\"\n",
              "     width=\"24px\">\n",
              "    <g>\n",
              "        <path d=\"M19 3H5c-1.1 0-2 .9-2 2v14c0 1.1.9 2 2 2h14c1.1 0 2-.9 2-2V5c0-1.1-.9-2-2-2zM9 17H7v-7h2v7zm4 0h-2V7h2v10zm4 0h-2v-4h2v4z\"/>\n",
              "    </g>\n",
              "</svg>\n",
              "  </button>\n",
              "\n",
              "<style>\n",
              "  .colab-df-quickchart {\n",
              "      --bg-color: #E8F0FE;\n",
              "      --fill-color: #1967D2;\n",
              "      --hover-bg-color: #E2EBFA;\n",
              "      --hover-fill-color: #174EA6;\n",
              "      --disabled-fill-color: #AAA;\n",
              "      --disabled-bg-color: #DDD;\n",
              "  }\n",
              "\n",
              "  [theme=dark] .colab-df-quickchart {\n",
              "      --bg-color: #3B4455;\n",
              "      --fill-color: #D2E3FC;\n",
              "      --hover-bg-color: #434B5C;\n",
              "      --hover-fill-color: #FFFFFF;\n",
              "      --disabled-bg-color: #3B4455;\n",
              "      --disabled-fill-color: #666;\n",
              "  }\n",
              "\n",
              "  .colab-df-quickchart {\n",
              "    background-color: var(--bg-color);\n",
              "    border: none;\n",
              "    border-radius: 50%;\n",
              "    cursor: pointer;\n",
              "    display: none;\n",
              "    fill: var(--fill-color);\n",
              "    height: 32px;\n",
              "    padding: 0;\n",
              "    width: 32px;\n",
              "  }\n",
              "\n",
              "  .colab-df-quickchart:hover {\n",
              "    background-color: var(--hover-bg-color);\n",
              "    box-shadow: 0 1px 2px rgba(60, 64, 67, 0.3), 0 1px 3px 1px rgba(60, 64, 67, 0.15);\n",
              "    fill: var(--button-hover-fill-color);\n",
              "  }\n",
              "\n",
              "  .colab-df-quickchart-complete:disabled,\n",
              "  .colab-df-quickchart-complete:disabled:hover {\n",
              "    background-color: var(--disabled-bg-color);\n",
              "    fill: var(--disabled-fill-color);\n",
              "    box-shadow: none;\n",
              "  }\n",
              "\n",
              "  .colab-df-spinner {\n",
              "    border: 2px solid var(--fill-color);\n",
              "    border-color: transparent;\n",
              "    border-bottom-color: var(--fill-color);\n",
              "    animation:\n",
              "      spin 1s steps(1) infinite;\n",
              "  }\n",
              "\n",
              "  @keyframes spin {\n",
              "    0% {\n",
              "      border-color: transparent;\n",
              "      border-bottom-color: var(--fill-color);\n",
              "      border-left-color: var(--fill-color);\n",
              "    }\n",
              "    20% {\n",
              "      border-color: transparent;\n",
              "      border-left-color: var(--fill-color);\n",
              "      border-top-color: var(--fill-color);\n",
              "    }\n",
              "    30% {\n",
              "      border-color: transparent;\n",
              "      border-left-color: var(--fill-color);\n",
              "      border-top-color: var(--fill-color);\n",
              "      border-right-color: var(--fill-color);\n",
              "    }\n",
              "    40% {\n",
              "      border-color: transparent;\n",
              "      border-right-color: var(--fill-color);\n",
              "      border-top-color: var(--fill-color);\n",
              "    }\n",
              "    60% {\n",
              "      border-color: transparent;\n",
              "      border-right-color: var(--fill-color);\n",
              "    }\n",
              "    80% {\n",
              "      border-color: transparent;\n",
              "      border-right-color: var(--fill-color);\n",
              "      border-bottom-color: var(--fill-color);\n",
              "    }\n",
              "    90% {\n",
              "      border-color: transparent;\n",
              "      border-bottom-color: var(--fill-color);\n",
              "    }\n",
              "  }\n",
              "</style>\n",
              "\n",
              "  <script>\n",
              "    async function quickchart(key) {\n",
              "      const quickchartButtonEl =\n",
              "        document.querySelector('#' + key + ' button');\n",
              "      quickchartButtonEl.disabled = true;  // To prevent multiple clicks.\n",
              "      quickchartButtonEl.classList.add('colab-df-spinner');\n",
              "      try {\n",
              "        const charts = await google.colab.kernel.invokeFunction(\n",
              "            'suggestCharts', [key], {});\n",
              "      } catch (error) {\n",
              "        console.error('Error during call to suggestCharts:', error);\n",
              "      }\n",
              "      quickchartButtonEl.classList.remove('colab-df-spinner');\n",
              "      quickchartButtonEl.classList.add('colab-df-quickchart-complete');\n",
              "    }\n",
              "    (() => {\n",
              "      let quickchartButtonEl =\n",
              "        document.querySelector('#df-e9043d92-c45d-4f36-92a7-a1de2aea3189 button');\n",
              "      quickchartButtonEl.style.display =\n",
              "        google.colab.kernel.accessAllowed ? 'block' : 'none';\n",
              "    })();\n",
              "  </script>\n",
              "</div>\n",
              "\n",
              "    </div>\n",
              "  </div>\n"
            ],
            "application/vnd.google.colaboratory.intrinsic+json": {
              "type": "dataframe",
              "variable_name": "data"
            }
          },
          "metadata": {},
          "execution_count": 5
        }
      ],
      "source": [
        "#Load Dataset\n",
        "data=pd.read_csv(\"/content/Dataset .csv\")\n",
        "#Display  first five rows\n",
        "data.head()"
      ]
    },
    {
      "cell_type": "code",
      "execution_count": 6,
      "id": "c81de6dc",
      "metadata": {
        "colab": {
          "base_uri": "https://localhost:8080/"
        },
        "id": "c81de6dc",
        "outputId": "f2092946-4d29-41ca-f5f6-da1290572f24"
      },
      "outputs": [
        {
          "output_type": "stream",
          "name": "stdout",
          "text": [
            "<class 'pandas.core.frame.DataFrame'>\n",
            "RangeIndex: 9551 entries, 0 to 9550\n",
            "Data columns (total 21 columns):\n",
            " #   Column                Non-Null Count  Dtype  \n",
            "---  ------                --------------  -----  \n",
            " 0   Restaurant ID         9551 non-null   int64  \n",
            " 1   Restaurant Name       9551 non-null   object \n",
            " 2   Country Code          9551 non-null   int64  \n",
            " 3   City                  9551 non-null   object \n",
            " 4   Address               9551 non-null   object \n",
            " 5   Locality              9551 non-null   object \n",
            " 6   Locality Verbose      9551 non-null   object \n",
            " 7   Longitude             9551 non-null   float64\n",
            " 8   Latitude              9551 non-null   float64\n",
            " 9   Cuisines              9542 non-null   object \n",
            " 10  Average Cost for two  9551 non-null   int64  \n",
            " 11  Currency              9551 non-null   object \n",
            " 12  Has Table booking     9551 non-null   object \n",
            " 13  Has Online delivery   9551 non-null   object \n",
            " 14  Is delivering now     9551 non-null   object \n",
            " 15  Switch to order menu  9551 non-null   object \n",
            " 16  Price range           9551 non-null   int64  \n",
            " 17  Aggregate rating      9551 non-null   float64\n",
            " 18  Rating color          9551 non-null   object \n",
            " 19  Rating text           9551 non-null   object \n",
            " 20  Votes                 9551 non-null   int64  \n",
            "dtypes: float64(3), int64(5), object(13)\n",
            "memory usage: 1.5+ MB\n"
          ]
        }
      ],
      "source": [
        "#Show Summary of Dataset\n",
        "data.info()"
      ]
    },
    {
      "cell_type": "code",
      "execution_count": 7,
      "id": "76de7bd2",
      "metadata": {
        "colab": {
          "base_uri": "https://localhost:8080/"
        },
        "id": "76de7bd2",
        "outputId": "f5baae10-f3a9-4ba7-a908-1cb2ea5afb15"
      },
      "outputs": [
        {
          "output_type": "stream",
          "name": "stdout",
          "text": [
            "missing values in each column:\n",
            "Restaurant ID           0\n",
            "Restaurant Name         0\n",
            "Country Code            0\n",
            "City                    0\n",
            "Address                 0\n",
            "Locality                0\n",
            "Locality Verbose        0\n",
            "Longitude               0\n",
            "Latitude                0\n",
            "Cuisines                9\n",
            "Average Cost for two    0\n",
            "Currency                0\n",
            "Has Table booking       0\n",
            "Has Online delivery     0\n",
            "Is delivering now       0\n",
            "Switch to order menu    0\n",
            "Price range             0\n",
            "Aggregate rating        0\n",
            "Rating color            0\n",
            "Rating text             0\n",
            "Votes                   0\n",
            "dtype: int64\n"
          ]
        }
      ],
      "source": [
        "missing_values=data.isnull().sum()\n",
        "print('missing values in each column:')\n",
        "print(missing_values)"
      ]
    },
    {
      "cell_type": "raw",
      "id": "e0ec6163",
      "metadata": {
        "id": "e0ec6163"
      },
      "source": [
        "After analyzing dataset we concluded that \"Cuisines\" column have 9 missing values."
      ]
    },
    {
      "cell_type": "code",
      "execution_count": 8,
      "id": "16da72b3",
      "metadata": {
        "colab": {
          "base_uri": "https://localhost:8080/"
        },
        "id": "16da72b3",
        "outputId": "d1d1d2f5-aa05-4cc0-cd3b-a309fa81668e"
      },
      "outputs": [
        {
          "output_type": "stream",
          "name": "stdout",
          "text": [
            "Missing values in \"Cuisines\" column after filling with mode: 0\n"
          ]
        }
      ],
      "source": [
        "#Fill missing values in \"Cuisine\" column with mode\n",
        "Mode_cuisines=data['Cuisines'].mode()[0]\n",
        "data['Cuisines'].fillna(Mode_cuisines,inplace=True)\n",
        "print(f'Missing values in \"Cuisines\" column after filling with mode: {data[\"Cuisines\"].isnull().sum()}')"
      ]
    },
    {
      "cell_type": "markdown",
      "id": "f4896ff8",
      "metadata": {
        "id": "f4896ff8"
      },
      "source": [
        "# 1.Percentage of restuarant offering Table Booking & Online Delivery"
      ]
    },
    {
      "cell_type": "code",
      "execution_count": 9,
      "id": "89fa313d",
      "metadata": {
        "colab": {
          "base_uri": "https://localhost:8080/",
          "height": 772
        },
        "id": "89fa313d",
        "outputId": "65f6f7d2-825d-486a-ce5e-f1ea4c23bf66"
      },
      "outputs": [
        {
          "output_type": "stream",
          "name": "stdout",
          "text": [
            "Percentage of Restaurants offering Table Booking:\n",
            "Has Table booking\n",
            "No     87.875615\n",
            "Yes    12.124385\n",
            "Name: proportion, dtype: float64\n",
            "\n",
            "Percentage of Restaurants offering Online Delivery:\n",
            "Has Online delivery\n",
            "No     74.337766\n",
            "Yes    25.662234\n",
            "Name: proportion, dtype: float64\n"
          ]
        },
        {
          "output_type": "execute_result",
          "data": {
            "text/plain": [
              "(array([0, 1]), [Text(0, 0, 'No'), Text(1, 0, 'Yes')])"
            ]
          },
          "metadata": {},
          "execution_count": 9
        },
        {
          "output_type": "display_data",
          "data": {
            "text/plain": [
              "<Figure size 1000x600 with 2 Axes>"
            ],
            "image/png": "[encoded data removed]"
          },
          "metadata": {}
        }
      ],
      "source": [
        "#Percentage of restaurants offering Table Booking and Online Delivery\n",
        "#Calculate Percentage\n",
        "table_booking_percentage=data['Has Table booking'].value_counts(normalize=True)*100\n",
        "online_delivery_percentage=data['Has Online delivery'].value_counts(normalize=True)*100\n",
        "\n",
        "#Display percentages\n",
        "print(\"Percentage of Restaurants offering Table Booking:\")\n",
        "print(table_booking_percentage)\n",
        "print(\"\\nPercentage of Restaurants offering Online Delivery:\")\n",
        "print(online_delivery_percentage)\n",
        "\n",
        "#Visualize percentages\n",
        "plt.figure(figsize=(10,6))\n",
        "\n",
        "#Table Booking\n",
        "plt.subplot(1,2,1)\n",
        "table_booking_percentage.plot(kind='bar',color='skyblue')\n",
        "plt.title('Percentage of Restaurants offering Table Booking')\n",
        "plt.xlabel('Has Table Booking')\n",
        "plt.ylabel('Percentage')\n",
        "plt.xticks(rotation=0)\n",
        "\n",
        "#Online Delivery\n",
        "plt.subplot(1,2,2)\n",
        "online_delivery_percentage.plot(kind='bar',color='lightgreen')\n",
        "plt.title('Percentage of Restaurants offering Online Delivery')\n",
        "plt.xlabel('Has Online Delivery')\n",
        "plt.ylabel('Percentage')\n",
        "plt.xticks(rotation=0)"
      ]
    },
    {
      "cell_type": "raw",
      "id": "c4407091",
      "metadata": {
        "id": "c4407091"
      },
      "source": [
        "1.Percentage of Restaurants offering Table Booking is 12.124385 & the Percentage of Restuarant offering without Table Booking is   87.875615.\n",
        "2.Percentage of Restaurants offering Online Delivery is  25.662234 & the Percentage of Restaurants offering without Online Delivery is  74.337766.\n",
        "3.The ratio of Restuarants offering with Table Booking is low as compared to offering without Table Booking.\n",
        "4.Similarly The ratio of Restuarants offering with Online Delivery is low as compared to offering without Online Delivery.\n",
        "5.The restuarants offers with Online Delivery is high as compared to with Table Booking."
      ]
    },
    {
      "cell_type": "markdown",
      "id": "81c1af42",
      "metadata": {
        "id": "81c1af42"
      },
      "source": [
        "# 2. The avg ratings of restuarants with Table Booking and those without"
      ]
    },
    {
      "cell_type": "code",
      "execution_count": 10,
      "id": "377526da",
      "metadata": {
        "colab": {
          "base_uri": "https://localhost:8080/",
          "height": 668
        },
        "id": "377526da",
        "outputId": "2a499d32-0e45-4da6-a5bc-16631c41138e"
      },
      "outputs": [
        {
          "output_type": "stream",
          "name": "stdout",
          "text": [
            "\n",
            "Average Ratings for Restaurants with and without Table Booking:\n",
            "Has Table booking\n",
            "No     2.559359\n",
            "Yes    3.441969\n",
            "Name: Aggregate rating, dtype: float64\n"
          ]
        },
        {
          "output_type": "display_data",
          "data": {
            "text/plain": [
              "<Figure size 800x600 with 1 Axes>"
            ],
            "image/png": "[encoded data removed]"
          },
          "metadata": {}
        }
      ],
      "source": [
        "#Compare Ratings for Restaurants with and without Table Booking\n",
        "#Group by Table Booking and Calculate Average rating\n",
        "table_booking_ratings=data.groupby('Has Table booking')['Aggregate rating'].mean()\n",
        "\n",
        "#Display results\n",
        "print(\"\\nAverage Ratings for Restaurants with and without Table Booking:\")\n",
        "print(table_booking_ratings)\n",
        "\n",
        "#Visualize ratings\n",
        "plt.figure(figsize=(8,6))\n",
        "table_booking_ratings.plot(kind='bar',color='skyblue')\n",
        "plt.title('Average Rating for Restaurants with and without Table Booking')\n",
        "plt.xlabel('Has Table Booking')\n",
        "plt.ylabel('Average Rating')\n",
        "plt.xticks(rotation=0)\n",
        "plt.show()"
      ]
    },
    {
      "cell_type": "raw",
      "id": "60876d25",
      "metadata": {
        "id": "60876d25"
      },
      "source": [
        "The average ratings of restuarants with Table Booking is high as compared to without Table Booking."
      ]
    },
    {
      "cell_type": "markdown",
      "id": "d649cb1d",
      "metadata": {
        "id": "d649cb1d"
      },
      "source": [
        "# 3.Analyze availability of Online Delivery among restuarants with diff Price ranges"
      ]
    },
    {
      "cell_type": "code",
      "execution_count": 11,
      "id": "c779c716",
      "metadata": {
        "colab": {
          "base_uri": "https://localhost:8080/",
          "height": 767
        },
        "id": "c779c716",
        "outputId": "910981e7-b697-4b1a-a399-143edd6bde5a"
      },
      "outputs": [
        {
          "output_type": "stream",
          "name": "stdout",
          "text": [
            "\n",
            "Online Delivery Availability by Price Range(Counts):\n",
            "Has Online delivery    No   Yes\n",
            "Price range                    \n",
            "1                    3743   701\n",
            "2                    1827  1286\n",
            "3                     997   411\n",
            "4                     533    53\n",
            "\n",
            "Online Delivery Availability by Price Range(Percentage):\n",
            "Has Online delivery         No        Yes\n",
            "Price range                              \n",
            "1                    84.225923  15.774077\n",
            "2                    58.689367  41.310633\n",
            "3                    70.809659  29.190341\n",
            "4                    90.955631   9.044369\n"
          ]
        },
        {
          "output_type": "display_data",
          "data": {
            "text/plain": [
              "<Figure size 800x500 with 0 Axes>"
            ]
          },
          "metadata": {}
        },
        {
          "output_type": "display_data",
          "data": {
            "text/plain": [
              "<Figure size 640x480 with 1 Axes>"
            ],
            "image/png": "[encoded data removed]"
          },
          "metadata": {}
        }
      ],
      "source": [
        "#Analyze Online Delivery Availability Across Price Ranges\n",
        "\n",
        "#Group by Price range and Online Delivery\n",
        "price_online_delivery=data.groupby(['Price range','Has Online delivery']).size().unstack(fill_value=0)\n",
        "\n",
        "#Normalize by price range for percentage comparision\n",
        "price_online_delivery_percentage=price_online_delivery.div(price_online_delivery.sum(axis=1),axis=0)*100\n",
        "\n",
        "#Display results\n",
        "print(\"\\nOnline Delivery Availability by Price Range(Counts):\")\n",
        "print(price_online_delivery)\n",
        "print(\"\\nOnline Delivery Availability by Price Range(Percentage):\")\n",
        "print(price_online_delivery_percentage)\n",
        "\n",
        "#Visualize Availability\n",
        "plt.figure(figsize=(8,5))\n",
        "price_online_delivery_percentage.plot(kind='bar',stacked=True,color=['lightgreen','skyblue'])\n",
        "plt.title('Online Delivery Availability by Price Range')\n",
        "plt.xlabel('Price range')\n",
        "plt.ylabel('Percentage')\n",
        "plt.xticks(rotation=0)\n",
        "plt.legend(title='Has Online Delivery')\n",
        "plt.show()"
      ]
    },
    {
      "cell_type": "raw",
      "id": "568399e0",
      "metadata": {
        "id": "568399e0"
      },
      "source": [
        "The percentage of Online Delivery availability is high in Price range '2' which is 41.310633 whereas the percentage\n",
        "of Online Delivery availability is low in Price range '4' which is 9.044369."
      ]
    },
    {
      "cell_type": "markdown",
      "id": "ec26f476",
      "metadata": {
        "id": "ec26f476"
      },
      "source": [
        "# Level2]Task2)Price Range Analysis"
      ]
    },
    {
      "cell_type": "markdown",
      "id": "a4fcf1e5",
      "metadata": {
        "id": "a4fcf1e5"
      },
      "source": [
        "# 1.The most common Price range among all restuarants"
      ]
    },
    {
      "cell_type": "code",
      "execution_count": 12,
      "id": "b58fff38",
      "metadata": {
        "colab": {
          "base_uri": "https://localhost:8080/",
          "height": 566
        },
        "id": "b58fff38",
        "outputId": "8a7ae98e-38f6-49a6-95db-a40a703d7c75"
      },
      "outputs": [
        {
          "output_type": "stream",
          "name": "stdout",
          "text": [
            "Most Common Price Range:\n",
            "Price range\n",
            "1    4444\n",
            "2    3113\n",
            "3    1408\n",
            "4     586\n",
            "Name: count, dtype: int64\n"
          ]
        },
        {
          "output_type": "display_data",
          "data": {
            "text/plain": [
              "<Figure size 600x400 with 1 Axes>"
            ],
            "image/png": "[encoded data removed]"
          },
          "metadata": {}
        },
        {
          "output_type": "stream",
          "name": "stdout",
          "text": [
            "\n",
            "The most common price range is: 1\n"
          ]
        }
      ],
      "source": [
        "#Price range Analysis\n",
        "#Determine the most common Price Range\n",
        "#Count occurences of each price range\n",
        "price_range_counts=data['Price range'].value_counts()\n",
        "\n",
        "#Find the most common price range\n",
        "most_common_price_range=price_range_counts.idxmax()\n",
        "\n",
        "#Display the results\n",
        "print(\"Most Common Price Range:\")\n",
        "print(price_range_counts)\n",
        "\n",
        "#Visualize price range distribution\n",
        "plt.figure(figsize=(6,4))\n",
        "price_range_counts.plot(kind='bar',color='skyblue')\n",
        "plt.title('Distribution of Price Ranges')\n",
        "plt.xlabel('Price range')\n",
        "plt.ylabel('Number of Restaurants')\n",
        "plt.xticks(rotation=0)\n",
        "plt.show()\n",
        "\n",
        "print(f\"\\nThe most common price range is: {most_common_price_range}\")"
      ]
    },
    {
      "cell_type": "raw",
      "id": "d9d3d5df",
      "metadata": {
        "id": "d9d3d5df"
      },
      "source": [
        "\n",
        "\n",
        "```\n",
        "# This is formatted as code\n",
        "```\n",
        "\n",
        "The most common price range is 1 . In Price range '1' there are highest number of restuarants which is '4444'. Whereas the least common Price range is 4 , in Price range '4' there are '586'restuarants."
      ]
    },
    {
      "cell_type": "markdown",
      "id": "7fa4a166",
      "metadata": {
        "id": "7fa4a166"
      },
      "source": [
        "# 2.The avg rating for each Price range"
      ]
    },
    {
      "cell_type": "code",
      "execution_count": 13,
      "id": "4a954599",
      "metadata": {
        "colab": {
          "base_uri": "https://localhost:8080/",
          "height": 549
        },
        "id": "4a954599",
        "outputId": "d23d9276-db24-4b3b-ac89-5b192f98af0c"
      },
      "outputs": [
        {
          "output_type": "stream",
          "name": "stdout",
          "text": [
            "\n",
            "Average rating for each price range:\n",
            "Price range\n",
            "1    1.999887\n",
            "2    2.941054\n",
            "3    3.683381\n",
            "4    3.817918\n",
            "Name: Aggregate rating, dtype: float64\n"
          ]
        },
        {
          "output_type": "display_data",
          "data": {
            "text/plain": [
              "<Figure size 600x400 with 1 Axes>"
            ],
            "image/png": "[encoded data removed]"
          },
          "metadata": {}
        }
      ],
      "source": [
        "#Calculate Average Rating for Each Price Range\n",
        "#Group by Price range and calculate the average rating\n",
        "average_rating_per_price_range=data.groupby('Price range')['Aggregate rating'].mean()\n",
        "#Display the results\n",
        "print(\"\\nAverage rating for each price range:\")\n",
        "print(average_rating_per_price_range)\n",
        "\n",
        "#Visualize average ratings\n",
        "plt.figure(figsize=(6,4))\n",
        "average_rating_per_price_range.plot(kind='bar',color=['green','orange','blue','purple'])\n",
        "plt.title('Average rating by Price range')\n",
        "plt.xlabel('Price range')\n",
        "plt.ylabel('Average rating')\n",
        "plt.xticks(rotation=0)\n",
        "plt.show()"
      ]
    },
    {
      "cell_type": "raw",
      "id": "9e2ba7fa",
      "metadata": {
        "id": "9e2ba7fa"
      },
      "source": [
        "The Price range '4' has high avg rating which is  3.817918 where as the Price range '1' has\n",
        "low avg rating which is    1.999887."
      ]
    },
    {
      "cell_type": "markdown",
      "id": "1b651300",
      "metadata": {
        "id": "1b651300"
      },
      "source": [
        "# 3.The color represents the highest avg rating among diff Price ranges"
      ]
    },
    {
      "cell_type": "code",
      "execution_count": 14,
      "id": "da0813f7",
      "metadata": {
        "colab": {
          "base_uri": "https://localhost:8080/",
          "height": 445
        },
        "id": "da0813f7",
        "outputId": "9f300939-8f6d-439e-aee0-068b35d94e87"
      },
      "outputs": [
        {
          "output_type": "stream",
          "name": "stdout",
          "text": [
            "The Price range with the highest average rating is: 4\n",
            "The color representing this Price range is: purple\n"
          ]
        },
        {
          "output_type": "display_data",
          "data": {
            "text/plain": [
              "<Figure size 600x400 with 1 Axes>"
            ],
            "image/png": "[encoded data removed]"
          },
          "metadata": {}
        }
      ],
      "source": [
        "#define Price range colors\n",
        "price_range_colors={\n",
        "    1:'green',\n",
        "    2:'orange',\n",
        "    3:'blue',\n",
        "    4:'purple'\n",
        "}\n",
        "\n",
        "#Calculate Average Ratings by Price Ranges\n",
        "#Group by Price range and calculate the average rating\n",
        "average_rating_per_price_range=data.groupby('Price range')['Aggregate rating'].mean()\n",
        "#Identify the Price range with the highest average rating\n",
        "highest_rating_price_range=average_rating_per_price_range.idxmax()\n",
        "\n",
        "#Identify the color\n",
        "#Find the color for the Price range with the highest average rating\n",
        "highest_rating_color=price_range_colors[highest_rating_price_range]\n",
        "\n",
        "#Display the results\n",
        "print(f\"The Price range with the highest average rating is: {highest_rating_price_range}\")\n",
        "print(f\"The color representing this Price range is: {highest_rating_color}\")\n",
        "\n",
        "#Visualizing the Results\n",
        "#Plot average ratings with assigned colors\n",
        "plt.figure(figsize=(6,4))\n",
        "average_rating_per_price_range.plot(kind='bar',color=[price_range_colors[pr] for pr in average_rating_per_price_range.index])\n",
        "#Highlight the bar with the highest rating\n",
        "plt.bar(highest_rating_price_range,average_rating_per_price_range[highest_rating_price_range],color='Purple',label='Highest Rating')\n",
        "#Add labels and legend\n",
        "plt.title('Average rating by Price range')\n",
        "plt.xlabel('Price range')\n",
        "plt.ylabel('Average rating')\n",
        "plt.xticks(rotation=0)\n",
        "plt.legend()\n",
        "plt.show()"
      ]
    },
    {
      "cell_type": "raw",
      "id": "bb69bf86",
      "metadata": {
        "id": "bb69bf86"
      },
      "source": [
        " The color that represents the highest avg rating among diff Price ranges is 'Purple'."
      ]
    },
    {
      "cell_type": "markdown",
      "id": "b809e209",
      "metadata": {
        "id": "b809e209"
      },
      "source": [
        "# Level2]Task3)Feature Engineering"
      ]
    },
    {
      "cell_type": "markdown",
      "id": "3ad649de",
      "metadata": {
        "id": "3ad649de"
      },
      "source": [
        "# Extract additional Features"
      ]
    },
    {
      "cell_type": "code",
      "execution_count": 15,
      "id": "b830987f",
      "metadata": {
        "id": "b830987f"
      },
      "outputs": [],
      "source": [
        "#Extract Additional Features\n",
        "#1.Length of the Restaurant Name\n",
        "data['NameLength']=data['Restaurant Name'].apply(len)"
      ]
    },
    {
      "cell_type": "code",
      "execution_count": 16,
      "id": "f3ac1da0",
      "metadata": {
        "colab": {
          "base_uri": "https://localhost:8080/",
          "height": 458
        },
        "id": "f3ac1da0",
        "outputId": "11da38ae-1c14-4a2b-dafe-a99d96413e2b"
      },
      "outputs": [
        {
          "output_type": "execute_result",
          "data": {
            "text/plain": [
              "0       16\n",
              "1       16\n",
              "2       22\n",
              "3        4\n",
              "4       11\n",
              "        ..\n",
              "9546    11\n",
              "9547    12\n",
              "9548     5\n",
              "9549    11\n",
              "9550    24\n",
              "Name: NameLength, Length: 9551, dtype: int64"
            ],
            "text/html": [
              "<div>\n",
              "<style scoped>\n",
              "    .dataframe tbody tr th:only-of-type {\n",
              "        vertical-align: middle;\n",
              "    }\n",
              "\n",
              "    .dataframe tbody tr th {\n",
              "        vertical-align: top;\n",
              "    }\n",
              "\n",
              "    .dataframe thead th {\n",
              "        text-align: right;\n",
              "    }\n",
              "</style>\n",
              "<table border=\"1\" class=\"dataframe\">\n",
              "  <thead>\n",
              "    <tr style=\"text-align: right;\">\n",
              "      <th></th>\n",
              "      <th>NameLength</th>\n",
              "    </tr>\n",
              "  </thead>\n",
              "  <tbody>\n",
              "    <tr>\n",
              "      <th>0</th>\n",
              "      <td>16</td>\n",
              "    </tr>\n",
              "    <tr>\n",
              "      <th>1</th>\n",
              "      <td>16</td>\n",
              "    </tr>\n",
              "    <tr>\n",
              "      <th>2</th>\n",
              "      <td>22</td>\n",
              "    </tr>\n",
              "    <tr>\n",
              "      <th>3</th>\n",
              "      <td>4</td>\n",
              "    </tr>\n",
              "    <tr>\n",
              "      <th>4</th>\n",
              "      <td>11</td>\n",
              "    </tr>\n",
              "    <tr>\n",
              "      <th>...</th>\n",
              "      <td>...</td>\n",
              "    </tr>\n",
              "    <tr>\n",
              "      <th>9546</th>\n",
              "      <td>11</td>\n",
              "    </tr>\n",
              "    <tr>\n",
              "      <th>9547</th>\n",
              "      <td>12</td>\n",
              "    </tr>\n",
              "    <tr>\n",
              "      <th>9548</th>\n",
              "      <td>5</td>\n",
              "    </tr>\n",
              "    <tr>\n",
              "      <th>9549</th>\n",
              "      <td>11</td>\n",
              "    </tr>\n",
              "    <tr>\n",
              "      <th>9550</th>\n",
              "      <td>24</td>\n",
              "    </tr>\n",
              "  </tbody>\n",
              "</table>\n",
              "<p>9551 rows × 1 columns</p>\n",
              "</div><br><label><b>dtype:</b> int64</label>"
            ]
          },
          "metadata": {},
          "execution_count": 16
        }
      ],
      "source": [
        "data['NameLength']"
      ]
    },
    {
      "cell_type": "code",
      "execution_count": 17,
      "id": "13d7d256",
      "metadata": {
        "id": "13d7d256"
      },
      "outputs": [],
      "source": [
        "#2.Length of the Address\n",
        "data['AddressLength']=data['Address'].apply(len)"
      ]
    },
    {
      "cell_type": "code",
      "execution_count": 18,
      "id": "bd18e5b4",
      "metadata": {
        "colab": {
          "base_uri": "https://localhost:8080/",
          "height": 458
        },
        "id": "bd18e5b4",
        "outputId": "1f86df06-136d-4649-c513-de0a9af50978"
      },
      "outputs": [
        {
          "output_type": "execute_result",
          "data": {
            "text/plain": [
              "0        71\n",
              "1        67\n",
              "2        56\n",
              "3        70\n",
              "4        64\n",
              "       ... \n",
              "9546    103\n",
              "9547     77\n",
              "9548     73\n",
              "9549     75\n",
              "9550     65\n",
              "Name: AddressLength, Length: 9551, dtype: int64"
            ],
            "text/html": [
              "<div>\n",
              "<style scoped>\n",
              "    .dataframe tbody tr th:only-of-type {\n",
              "        vertical-align: middle;\n",
              "    }\n",
              "\n",
              "    .dataframe tbody tr th {\n",
              "        vertical-align: top;\n",
              "    }\n",
              "\n",
              "    .dataframe thead th {\n",
              "        text-align: right;\n",
              "    }\n",
              "</style>\n",
              "<table border=\"1\" class=\"dataframe\">\n",
              "  <thead>\n",
              "    <tr style=\"text-align: right;\">\n",
              "      <th></th>\n",
              "      <th>AddressLength</th>\n",
              "    </tr>\n",
              "  </thead>\n",
              "  <tbody>\n",
              "    <tr>\n",
              "      <th>0</th>\n",
              "      <td>71</td>\n",
              "    </tr>\n",
              "    <tr>\n",
              "      <th>1</th>\n",
              "      <td>67</td>\n",
              "    </tr>\n",
              "    <tr>\n",
              "      <th>2</th>\n",
              "      <td>56</td>\n",
              "    </tr>\n",
              "    <tr>\n",
              "      <th>3</th>\n",
              "      <td>70</td>\n",
              "    </tr>\n",
              "    <tr>\n",
              "      <th>4</th>\n",
              "      <td>64</td>\n",
              "    </tr>\n",
              "    <tr>\n",
              "      <th>...</th>\n",
              "      <td>...</td>\n",
              "    </tr>\n",
              "    <tr>\n",
              "      <th>9546</th>\n",
              "      <td>103</td>\n",
              "    </tr>\n",
              "    <tr>\n",
              "      <th>9547</th>\n",
              "      <td>77</td>\n",
              "    </tr>\n",
              "    <tr>\n",
              "      <th>9548</th>\n",
              "      <td>73</td>\n",
              "    </tr>\n",
              "    <tr>\n",
              "      <th>9549</th>\n",
              "      <td>75</td>\n",
              "    </tr>\n",
              "    <tr>\n",
              "      <th>9550</th>\n",
              "      <td>65</td>\n",
              "    </tr>\n",
              "  </tbody>\n",
              "</table>\n",
              "<p>9551 rows × 1 columns</p>\n",
              "</div><br><label><b>dtype:</b> int64</label>"
            ]
          },
          "metadata": {},
          "execution_count": 18
        }
      ],
      "source": [
        "data['AddressLength']"
      ]
    },
    {
      "cell_type": "code",
      "execution_count": 19,
      "id": "3f2fec54",
      "metadata": {
        "id": "3f2fec54"
      },
      "outputs": [],
      "source": [
        "#Create New features\n",
        "#1.Has Table Booking:convert 'Table Booking' column (categorical) to a binary(1/0)\n",
        "#Encode 'Table Booking' as binary\n",
        "data['Has Table booking']=data['Has Table booking'].map({'Yes':1,'No':0})"
      ]
    },
    {
      "cell_type": "code",
      "execution_count": 20,
      "id": "a3a0147a",
      "metadata": {
        "colab": {
          "base_uri": "https://localhost:8080/",
          "height": 458
        },
        "id": "a3a0147a",
        "outputId": "12f08a8e-9911-4756-fdc3-146057af5ee7"
      },
      "outputs": [
        {
          "output_type": "execute_result",
          "data": {
            "text/plain": [
              "0       1\n",
              "1       1\n",
              "2       1\n",
              "3       0\n",
              "4       1\n",
              "       ..\n",
              "9546    0\n",
              "9547    0\n",
              "9548    0\n",
              "9549    0\n",
              "9550    0\n",
              "Name: Has Table booking, Length: 9551, dtype: int64"
            ],
            "text/html": [
              "<div>\n",
              "<style scoped>\n",
              "    .dataframe tbody tr th:only-of-type {\n",
              "        vertical-align: middle;\n",
              "    }\n",
              "\n",
              "    .dataframe tbody tr th {\n",
              "        vertical-align: top;\n",
              "    }\n",
              "\n",
              "    .dataframe thead th {\n",
              "        text-align: right;\n",
              "    }\n",
              "</style>\n",
              "<table border=\"1\" class=\"dataframe\">\n",
              "  <thead>\n",
              "    <tr style=\"text-align: right;\">\n",
              "      <th></th>\n",
              "      <th>Has Table booking</th>\n",
              "    </tr>\n",
              "  </thead>\n",
              "  <tbody>\n",
              "    <tr>\n",
              "      <th>0</th>\n",
              "      <td>1</td>\n",
              "    </tr>\n",
              "    <tr>\n",
              "      <th>1</th>\n",
              "      <td>1</td>\n",
              "    </tr>\n",
              "    <tr>\n",
              "      <th>2</th>\n",
              "      <td>1</td>\n",
              "    </tr>\n",
              "    <tr>\n",
              "      <th>3</th>\n",
              "      <td>0</td>\n",
              "    </tr>\n",
              "    <tr>\n",
              "      <th>4</th>\n",
              "      <td>1</td>\n",
              "    </tr>\n",
              "    <tr>\n",
              "      <th>...</th>\n",
              "      <td>...</td>\n",
              "    </tr>\n",
              "    <tr>\n",
              "      <th>9546</th>\n",
              "      <td>0</td>\n",
              "    </tr>\n",
              "    <tr>\n",
              "      <th>9547</th>\n",
              "      <td>0</td>\n",
              "    </tr>\n",
              "    <tr>\n",
              "      <th>9548</th>\n",
              "      <td>0</td>\n",
              "    </tr>\n",
              "    <tr>\n",
              "      <th>9549</th>\n",
              "      <td>0</td>\n",
              "    </tr>\n",
              "    <tr>\n",
              "      <th>9550</th>\n",
              "      <td>0</td>\n",
              "    </tr>\n",
              "  </tbody>\n",
              "</table>\n",
              "<p>9551 rows × 1 columns</p>\n",
              "</div><br><label><b>dtype:</b> int64</label>"
            ]
          },
          "metadata": {},
          "execution_count": 20
        }
      ],
      "source": [
        "data['Has Table booking']"
      ]
    },
    {
      "cell_type": "code",
      "execution_count": 21,
      "id": "3d41a83b",
      "metadata": {
        "id": "3d41a83b"
      },
      "outputs": [],
      "source": [
        "#2.Has Online Delivery\n",
        "#Encode 'Online Delivery' as binary\n",
        "data['Has Online delivery']=data['Has Online delivery'].apply(lambda x: 1 if x=='Yes' else 0)"
      ]
    },
    {
      "cell_type": "code",
      "execution_count": 22,
      "id": "fb94e4f6",
      "metadata": {
        "colab": {
          "base_uri": "https://localhost:8080/",
          "height": 458
        },
        "id": "fb94e4f6",
        "outputId": "5944010f-f1d3-44f1-93d9-eea6e553820b"
      },
      "outputs": [
        {
          "output_type": "execute_result",
          "data": {
            "text/plain": [
              "0       0\n",
              "1       0\n",
              "2       0\n",
              "3       0\n",
              "4       0\n",
              "       ..\n",
              "9546    0\n",
              "9547    0\n",
              "9548    0\n",
              "9549    0\n",
              "9550    0\n",
              "Name: Has Online delivery, Length: 9551, dtype: int64"
            ],
            "text/html": [
              "<div>\n",
              "<style scoped>\n",
              "    .dataframe tbody tr th:only-of-type {\n",
              "        vertical-align: middle;\n",
              "    }\n",
              "\n",
              "    .dataframe tbody tr th {\n",
              "        vertical-align: top;\n",
              "    }\n",
              "\n",
              "    .dataframe thead th {\n",
              "        text-align: right;\n",
              "    }\n",
              "</style>\n",
              "<table border=\"1\" class=\"dataframe\">\n",
              "  <thead>\n",
              "    <tr style=\"text-align: right;\">\n",
              "      <th></th>\n",
              "      <th>Has Online delivery</th>\n",
              "    </tr>\n",
              "  </thead>\n",
              "  <tbody>\n",
              "    <tr>\n",
              "      <th>0</th>\n",
              "      <td>0</td>\n",
              "    </tr>\n",
              "    <tr>\n",
              "      <th>1</th>\n",
              "      <td>0</td>\n",
              "    </tr>\n",
              "    <tr>\n",
              "      <th>2</th>\n",
              "      <td>0</td>\n",
              "    </tr>\n",
              "    <tr>\n",
              "      <th>3</th>\n",
              "      <td>0</td>\n",
              "    </tr>\n",
              "    <tr>\n",
              "      <th>4</th>\n",
              "      <td>0</td>\n",
              "    </tr>\n",
              "    <tr>\n",
              "      <th>...</th>\n",
              "      <td>...</td>\n",
              "    </tr>\n",
              "    <tr>\n",
              "      <th>9546</th>\n",
              "      <td>0</td>\n",
              "    </tr>\n",
              "    <tr>\n",
              "      <th>9547</th>\n",
              "      <td>0</td>\n",
              "    </tr>\n",
              "    <tr>\n",
              "      <th>9548</th>\n",
              "      <td>0</td>\n",
              "    </tr>\n",
              "    <tr>\n",
              "      <th>9549</th>\n",
              "      <td>0</td>\n",
              "    </tr>\n",
              "    <tr>\n",
              "      <th>9550</th>\n",
              "      <td>0</td>\n",
              "    </tr>\n",
              "  </tbody>\n",
              "</table>\n",
              "<p>9551 rows × 1 columns</p>\n",
              "</div><br><label><b>dtype:</b> int64</label>"
            ]
          },
          "metadata": {},
          "execution_count": 22
        }
      ],
      "source": [
        "data['Has Online delivery']"
      ]
    },
    {
      "cell_type": "code",
      "execution_count": 23,
      "id": "161342a6",
      "metadata": {
        "id": "161342a6"
      },
      "outputs": [],
      "source": [
        "#3.Is High Rated\n",
        "#Create a binary feature for high rated restaurants\n",
        "data['Is High Rated']=data['Aggregate rating'].apply(lambda x: 1 if x >=4.0 else 0)"
      ]
    },
    {
      "cell_type": "code",
      "execution_count": 24,
      "id": "390552d1",
      "metadata": {
        "colab": {
          "base_uri": "https://localhost:8080/",
          "height": 458
        },
        "id": "390552d1",
        "outputId": "8f9fc272-f35e-46b0-fb5a-eae786486b4f"
      },
      "outputs": [
        {
          "output_type": "execute_result",
          "data": {
            "text/plain": [
              "0       1\n",
              "1       1\n",
              "2       1\n",
              "3       1\n",
              "4       1\n",
              "       ..\n",
              "9546    1\n",
              "9547    1\n",
              "9548    0\n",
              "9549    1\n",
              "9550    1\n",
              "Name: Is High Rated, Length: 9551, dtype: int64"
            ],
            "text/html": [
              "<div>\n",
              "<style scoped>\n",
              "    .dataframe tbody tr th:only-of-type {\n",
              "        vertical-align: middle;\n",
              "    }\n",
              "\n",
              "    .dataframe tbody tr th {\n",
              "        vertical-align: top;\n",
              "    }\n",
              "\n",
              "    .dataframe thead th {\n",
              "        text-align: right;\n",
              "    }\n",
              "</style>\n",
              "<table border=\"1\" class=\"dataframe\">\n",
              "  <thead>\n",
              "    <tr style=\"text-align: right;\">\n",
              "      <th></th>\n",
              "      <th>Is High Rated</th>\n",
              "    </tr>\n",
              "  </thead>\n",
              "  <tbody>\n",
              "    <tr>\n",
              "      <th>0</th>\n",
              "      <td>1</td>\n",
              "    </tr>\n",
              "    <tr>\n",
              "      <th>1</th>\n",
              "      <td>1</td>\n",
              "    </tr>\n",
              "    <tr>\n",
              "      <th>2</th>\n",
              "      <td>1</td>\n",
              "    </tr>\n",
              "    <tr>\n",
              "      <th>3</th>\n",
              "      <td>1</td>\n",
              "    </tr>\n",
              "    <tr>\n",
              "      <th>4</th>\n",
              "      <td>1</td>\n",
              "    </tr>\n",
              "    <tr>\n",
              "      <th>...</th>\n",
              "      <td>...</td>\n",
              "    </tr>\n",
              "    <tr>\n",
              "      <th>9546</th>\n",
              "      <td>1</td>\n",
              "    </tr>\n",
              "    <tr>\n",
              "      <th>9547</th>\n",
              "      <td>1</td>\n",
              "    </tr>\n",
              "    <tr>\n",
              "      <th>9548</th>\n",
              "      <td>0</td>\n",
              "    </tr>\n",
              "    <tr>\n",
              "      <th>9549</th>\n",
              "      <td>1</td>\n",
              "    </tr>\n",
              "    <tr>\n",
              "      <th>9550</th>\n",
              "      <td>1</td>\n",
              "    </tr>\n",
              "  </tbody>\n",
              "</table>\n",
              "<p>9551 rows × 1 columns</p>\n",
              "</div><br><label><b>dtype:</b> int64</label>"
            ]
          },
          "metadata": {},
          "execution_count": 24
        }
      ],
      "source": [
        "data['Is High Rated']"
      ]
    },
    {
      "cell_type": "code",
      "execution_count": 25,
      "id": "16988f93",
      "metadata": {
        "colab": {
          "base_uri": "https://localhost:8080/"
        },
        "id": "16988f93",
        "outputId": "a1478075-0bbc-4597-99b4-92a8973916cc"
      },
      "outputs": [
        {
          "output_type": "stream",
          "name": "stdout",
          "text": [
            "    Restaurant ID                           Restaurant Name  Country Code  \\\n",
            "0         6317637                          Le Petit Souffle           162   \n",
            "1         6304287                          Izakaya Kikufuji           162   \n",
            "2         6300002                    Heat - Edsa Shangri-La           162   \n",
            "3         6318506                                      Ooma           162   \n",
            "4         6314302                               Sambo Kojin           162   \n",
            "5        18189371                              Din Tai Fung           162   \n",
            "6         6300781                                Buffet 101           162   \n",
            "7         6301290                                   Vikings           162   \n",
            "8         6300010  Spiral - Sofitel Philippine Plaza Manila           162   \n",
            "9         6314987                                  Locavore           162   \n",
            "10        6309903                          Silantro Fil-Mex           162   \n",
            "11        6309455           Mad Mark's Creamery & Good Eats           162   \n",
            "12        6318433                          Silantro Fil-Mex           162   \n",
            "13        6310470                                Guevarra's           162   \n",
            "14        6314605                   Sodam Korean Restaurant           162   \n",
            "15       18185059                             Cafe Arabelle           162   \n",
            "16       18182702                  Nonna's Pasta & Pizzeria           162   \n",
            "17        6318213                                Balay Dako           162   \n",
            "18       18255654                Hobing Korean Dessert Cafe           162   \n",
            "19        6308205                   Wildflour Cafe + Bakery           162   \n",
            "\n",
            "                City                                            Address  \\\n",
            "0        Makati City  Third Floor, Century City Mall, Kalayaan Avenu...   \n",
            "1        Makati City  Little Tokyo, 2277 Chino Roces Avenue, Legaspi...   \n",
            "2   Mandaluyong City  Edsa Shangri-La, 1 Garden Way, Ortigas, Mandal...   \n",
            "3   Mandaluyong City  Third Floor, Mega Fashion Hall, SM Megamall, O...   \n",
            "4   Mandaluyong City  Third Floor, Mega Atrium, SM Megamall, Ortigas...   \n",
            "5   Mandaluyong City  Ground Floor, Mega Fashion Hall, SM Megamall, ...   \n",
            "6         Pasay City  Building K, SM By The Bay, Sunset Boulevard, M...   \n",
            "7         Pasay City  Building B, By The Bay, Seaside Boulevard, Mal...   \n",
            "8         Pasay City  Plaza Level, Sofitel Philippine Plaza Manila, ...   \n",
            "9         Pasig City  Brixton Technology Center, 10 Brixton Street, ...   \n",
            "10        Pasig City       75 East Capitol Drive, Kapitolyo, Pasig City   \n",
            "11        Pasig City       23 East Capitol Drive, Kapitolyo, Pasig City   \n",
            "12       Quezon City  Second Floor, UP Town Center, Katipunan Avenue...   \n",
            "13     San Juan City  387 P. Guevarra Corner Argonne Street, Additio...   \n",
            "14     San Juan City  17 J. Abad Santos Drive, Little Baguio, San Ju...   \n",
            "15        Santa Rosa  Ayala Mall, Solenad, Nuvali, Santa Rosa - Taga...   \n",
            "16        Santa Rosa  Ground Floor, Building G, Solenad 3, Nuvali, D...   \n",
            "17     Tagaytay City                   Aguinaldo Highway, Tagaytay City   \n",
            "18       Taguig City  Third Floor, BGC Stopover Pavillion, Rizal Dri...   \n",
            "19       Taguig City  Ground Floor, Netlima Building, 4th Avenue Cor...   \n",
            "\n",
            "                                           Locality  \\\n",
            "0         Century City Mall, Poblacion, Makati City   \n",
            "1        Little Tokyo, Legaspi Village, Makati City   \n",
            "2        Edsa Shangri-La, Ortigas, Mandaluyong City   \n",
            "3            SM Megamall, Ortigas, Mandaluyong City   \n",
            "4            SM Megamall, Ortigas, Mandaluyong City   \n",
            "5            SM Megamall, Ortigas, Mandaluyong City   \n",
            "6   SM by the Bay, Mall of Asia Complex, Pasay City   \n",
            "7   SM by the Bay, Mall of Asia Complex, Pasay City   \n",
            "8       Sofitel Philippine Plaza Manila, Pasay City   \n",
            "9                                         Kapitolyo   \n",
            "10                                        Kapitolyo   \n",
            "11                                        Kapitolyo   \n",
            "12             UP Town Center, Diliman, Quezon City   \n",
            "13                                   Addition Hills   \n",
            "14                                    Little Baguio   \n",
            "15                     Nuvali, Don Jose, Santa Rosa   \n",
            "16                  Solenad 3, Don Jose, Santa Rosa   \n",
            "17                                    Tagaytay City   \n",
            "18    BGC Stopover Pavillion, Bonifacio Global City   \n",
            "19                            Bonifacio Global City   \n",
            "\n",
            "                                     Locality Verbose   Longitude   Latitude  \\\n",
            "0   Century City Mall, Poblacion, Makati City, Mak...  121.027535  14.565443   \n",
            "1   Little Tokyo, Legaspi Village, Makati City, Ma...  121.014101  14.553708   \n",
            "2   Edsa Shangri-La, Ortigas, Mandaluyong City, Ma...  121.056831  14.581404   \n",
            "3   SM Megamall, Ortigas, Mandaluyong City, Mandal...  121.056475  14.585318   \n",
            "4   SM Megamall, Ortigas, Mandaluyong City, Mandal...  121.057508  14.584450   \n",
            "5   SM Megamall, Ortigas, Mandaluyong City, Mandal...  121.056314  14.583764   \n",
            "6   SM by the Bay, Mall of Asia Complex, Pasay Cit...  120.979667  14.531333   \n",
            "7   SM by the Bay, Mall of Asia Complex, Pasay Cit...  120.979333  14.540000   \n",
            "8   Sofitel Philippine Plaza Manila, Pasay City, P...  120.980090  14.552990   \n",
            "9                               Kapitolyo, Pasig City  121.056532  14.572041   \n",
            "10                              Kapitolyo, Pasig City  121.057916  14.567689   \n",
            "11                              Kapitolyo, Pasig City  121.060820  14.570849   \n",
            "12  UP Town Center, Diliman, Quezon City, Quezon City  121.075419  14.649503   \n",
            "13                      Addition Hills, San Juan City  121.033592  14.593450   \n",
            "14                       Little Baguio, San Juan City  121.038110  14.598890   \n",
            "15           Nuvali, Don Jose, Santa Rosa, Santa Rosa  121.057040  14.237082   \n",
            "16        Solenad 3, Don Jose, Santa Rosa, Santa Rosa  121.056587  14.237679   \n",
            "17                       Tagaytay City, Tagaytay City  120.951589  14.101834   \n",
            "18  BGC Stopover Pavillion, Bonifacio Global City,...  121.045878  14.554360   \n",
            "19                 Bonifacio Global City, Taguig City  121.046220  14.549337   \n",
            "\n",
            "                              Cuisines  ...  Is delivering now  \\\n",
            "0           French, Japanese, Desserts  ...                 No   \n",
            "1                             Japanese  ...                 No   \n",
            "2     Seafood, Asian, Filipino, Indian  ...                 No   \n",
            "3                      Japanese, Sushi  ...                 No   \n",
            "4                     Japanese, Korean  ...                 No   \n",
            "5                              Chinese  ...                 No   \n",
            "6                      Asian, European  ...                 No   \n",
            "7   Seafood, Filipino, Asian, European  ...                 No   \n",
            "8              European, Asian, Indian  ...                 No   \n",
            "9                             Filipino  ...                 No   \n",
            "10                   Filipino, Mexican  ...                 No   \n",
            "11       American, Ice Cream, Desserts  ...                 No   \n",
            "12                   Filipino, Mexican  ...                 No   \n",
            "13                            Filipino  ...                 No   \n",
            "14                              Korean  ...                 No   \n",
            "15   Cafe, American, Italian, Filipino  ...                 No   \n",
            "16                      Italian, Pizza  ...                 No   \n",
            "17                            Filipino  ...                 No   \n",
            "18              Cafe, Korean, Desserts  ...                 No   \n",
            "19     Cafe, Bakery, American, Italian  ...                 No   \n",
            "\n",
            "   Switch to order menu  Price range  Aggregate rating Rating color  \\\n",
            "0                    No            3               4.8   Dark Green   \n",
            "1                    No            3               4.5   Dark Green   \n",
            "2                    No            4               4.4        Green   \n",
            "3                    No            4               4.9   Dark Green   \n",
            "4                    No            4               4.8   Dark Green   \n",
            "5                    No            3               4.4        Green   \n",
            "6                    No            4               4.0        Green   \n",
            "7                    No            4               4.2        Green   \n",
            "8                    No            4               4.9   Dark Green   \n",
            "9                    No            3               4.8   Dark Green   \n",
            "10                   No            3               4.9   Dark Green   \n",
            "11                   No            3               4.2        Green   \n",
            "12                   No            3               4.8   Dark Green   \n",
            "13                   No            3               4.2        Green   \n",
            "14                   No            3               4.3        Green   \n",
            "15                   No            3               3.6       Yellow   \n",
            "16                   No            3               4.0        Green   \n",
            "17                   No            3               4.5   Dark Green   \n",
            "18                   No            2               4.5   Dark Green   \n",
            "19                   No            4               4.4        Green   \n",
            "\n",
            "   Rating text  Votes  NameLength AddressLength Is High Rated  \n",
            "0    Excellent    314          16            71             1  \n",
            "1    Excellent    591          16            67             1  \n",
            "2    Very Good    270          22            56             1  \n",
            "3    Excellent    365           4            70             1  \n",
            "4    Excellent    229          11            64             1  \n",
            "5    Very Good    336          12            71             1  \n",
            "6    Very Good    520          10            83             1  \n",
            "7    Very Good    677           7            81             1  \n",
            "8    Excellent    621          40            69             1  \n",
            "9    Excellent    532           8            67             1  \n",
            "10   Excellent   1070          16            44             1  \n",
            "11   Very Good    488          31            44             1  \n",
            "12   Excellent    294          16            68             1  \n",
            "13   Very Good    458          10            68             1  \n",
            "14   Very Good    223          23            53             1  \n",
            "15        Good     29          13            77             0  \n",
            "16   Very Good     72          24            65             1  \n",
            "17   Excellent    211          10            32             1  \n",
            "18   Excellent    118          26           103             1  \n",
            "19   Very Good    392          23            97             1  \n",
            "\n",
            "[20 rows x 24 columns]\n"
          ]
        }
      ],
      "source": [
        "#Verify the New Features\n",
        "print(data.head(20))"
      ]
    },
    {
      "cell_type": "code",
      "execution_count": 26,
      "id": "3dcccf9c",
      "metadata": {
        "colab": {
          "base_uri": "https://localhost:8080/",
          "height": 472
        },
        "id": "3dcccf9c",
        "outputId": "a77c14cf-2632-41cc-c65a-40ede86ed782"
      },
      "outputs": [
        {
          "output_type": "display_data",
          "data": {
            "text/plain": [
              "<Figure size 640x480 with 1 Axes>"
            ],
            "image/png": "[encoded data removed]"
          },
          "metadata": {}
        }
      ],
      "source": [
        "#Step 5:Analyze the New Features\n",
        "#1.Distribution of Length Features\n",
        "import matplotlib.pyplot as plt\n",
        "#Histogram of name length\n",
        "plt.hist(data['NameLength'],bins=20,color='skyblue',edgecolor='black')\n",
        "plt.title('Distribution of Rrestaurant Name Length')\n",
        "plt.xlabel('Name Length')\n",
        "plt.ylabel('Frequency')\n",
        "plt.show()"
      ]
    },
    {
      "cell_type": "raw",
      "id": "a8e76b64",
      "metadata": {
        "id": "a8e76b64"
      },
      "source": [
        "The distribution of \"Name Length\" is right-skewed."
      ]
    },
    {
      "cell_type": "code",
      "execution_count": 27,
      "id": "3a240458",
      "metadata": {
        "colab": {
          "base_uri": "https://localhost:8080/",
          "height": 683
        },
        "id": "3a240458",
        "outputId": "c7bdce97-5cc2-43e0-e3e0-1e98afde8e3a"
      },
      "outputs": [
        {
          "output_type": "display_data",
          "data": {
            "text/plain": [
              "<Figure size 800x600 with 0 Axes>"
            ]
          },
          "metadata": {}
        },
        {
          "output_type": "display_data",
          "data": {
            "text/plain": [
              "<Figure size 800x600 with 2 Axes>"
            ],
            "image/png": "[encoded data removed]"
          },
          "metadata": {}
        }
      ],
      "source": [
        "#2.Correlation with Ratings\n",
        "#Correlation matrix to analyze new features\n",
        "correlation_matrix=data[['NameLength','AddressLength','Has Table booking','Has Online delivery','Is High Rated','Aggregate rating']].corr()\n",
        "\n",
        "#Visualize correlations\n",
        "import seaborn as sns\n",
        "plt.figure(figsize=(8,6))\n",
        "plt.figure(figsize=(8,6))\n",
        "sns.heatmap(correlation_matrix,annot=True,cmap='coolwarm',fmt='.2f')\n",
        "plt.title('Correlation Matrix')\n",
        "plt.show()"
      ]
    },
    {
      "cell_type": "raw",
      "id": "2b4723d6",
      "metadata": {
        "id": "2b4723d6"
      },
      "source": [
        "There is no meaningful correlation between 'NameLength','AddressLength',Has Table booking','Has Online delivery','Is High Rated' & 'Aggregate rating' to each other."
      ]
    }
  ],
  "metadata": {
    "kernelspec": {
      "display_name": "Python 3 (ipykernel)",
      "language": "python",
      "name": "python3"
    },
    "language_info": {
      "codemirror_mode": {
        "name": "ipython",
        "version": 3
      },
      "file_extension": ".py",
      "mimetype": "text/x-python",
      "name": "python",
      "nbconvert_exporter": "python",
      "pygments_lexer": "ipython3",
      "version": "3.11.3"
    },
    "colab": {
      "provenance": [],
      "include_colab_link": true
    }
  },
  "nbformat": 4,
  "nbformat_minor": 5
}